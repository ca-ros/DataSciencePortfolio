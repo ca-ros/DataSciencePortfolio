{
 "cells": [
  {
   "cell_type": "markdown",
   "metadata": {},
   "source": [
    "## About the Data\n",
    "\n",
    "Handling null values, missing station_names, in divvy bikes dataset using station coordinates.\n",
    "\n",
    "Download the data from [Google Drive](https://drive.google.com/file/d/1Hiz34DeaEZUPocs8pe9zabngCHAZQKNZ/view?usp=sharing)"
   ]
  },
  {
   "cell_type": "code",
   "execution_count": 1,
   "metadata": {},
   "outputs": [],
   "source": [
    "# load libraries\n",
    "import pandas as pd\n",
    "from glob import glob\n",
    "from sklearn.tree import DecisionTreeClassifier\n",
    "from sklearn.model_selection import train_test_split\n",
    "from sklearn.metrics import accuracy_score"
   ]
  },
  {
   "cell_type": "markdown",
   "metadata": {},
   "source": [
    "## Merge csv files: trips table\n",
    "\n",
    "The csv files are in the same directory with the python notebook"
   ]
  },
  {
   "cell_type": "code",
   "execution_count": null,
   "metadata": {},
   "outputs": [],
   "source": [
    "data = sorted(glob('data/divvy/*.csv'))"
   ]
  },
  {
   "cell_type": "code",
   "execution_count": null,
   "metadata": {},
   "outputs": [],
   "source": [
    "df = pd.concat(\n",
    "    (pd.read_csv(file).assign()\n",
    "    for file in data), \n",
    "    ignore_index = True\n",
    "    )\n",
    "df"
   ]
  },
  {
   "cell_type": "markdown",
   "metadata": {},
   "source": [
    "## Import Stations table "
   ]
  },
  {
   "cell_type": "code",
   "execution_count": 97,
   "metadata": {},
   "outputs": [],
   "source": [
    "# Stations table\n",
    "stations = pd.read_csv('data/Stations.csv')"
   ]
  },
  {
   "cell_type": "markdown",
   "metadata": {},
   "source": [
    "## Preparing the data\n",
    "\n",
    "### Trips table"
   ]
  },
  {
   "cell_type": "code",
   "execution_count": 91,
   "metadata": {},
   "outputs": [
    {
     "data": {
      "text/plain": [
       "ride_id                    0\n",
       "rideable_type              0\n",
       "started_at                 0\n",
       "ended_at                   0\n",
       "start_station_name    785465\n",
       "start_station_id      786088\n",
       "end_station_name      850051\n",
       "end_station_id        850512\n",
       "start_lat                  0\n",
       "start_lng                  0\n",
       "end_lat                 9026\n",
       "end_lng                 9026\n",
       "member_casual              0\n",
       "dtype: int64"
      ]
     },
     "execution_count": 91,
     "metadata": {},
     "output_type": "execute_result"
    }
   ],
   "source": [
    "df.isna().sum()"
   ]
  },
  {
   "cell_type": "code",
   "execution_count": 109,
   "metadata": {},
   "outputs": [],
   "source": [
    "# Filter data \n",
    "bool = df['start_station_name'].isna() | (df['end_station_name'].isna() & df['end_lat'].notna())\n",
    "\n",
    "df_filt = df[bool]\n",
    "\n",
    "Xs = df_filt[ ['start_lat', 'start_lng'] ]\n",
    "Xe = df_filt[ ['end_lat', 'end_lng'] ]"
   ]
  },
  {
   "cell_type": "code",
   "execution_count": 110,
   "metadata": {},
   "outputs": [
    {
     "data": {
      "text/plain": [
       "ride_id                    0\n",
       "rideable_type              0\n",
       "started_at                 0\n",
       "ended_at                   0\n",
       "start_station_name    785465\n",
       "start_station_id      785564\n",
       "end_station_name      841025\n",
       "end_station_id        841082\n",
       "start_lat                  0\n",
       "start_lng                  0\n",
       "end_lat                    0\n",
       "end_lng                    0\n",
       "member_casual              0\n",
       "dtype: int64"
      ]
     },
     "execution_count": 110,
     "metadata": {},
     "output_type": "execute_result"
    }
   ],
   "source": [
    "df_filt.isna().sum()"
   ]
  },
  {
   "cell_type": "markdown",
   "metadata": {},
   "source": [
    "### Stations table"
   ]
  },
  {
   "cell_type": "code",
   "execution_count": 98,
   "metadata": {},
   "outputs": [
    {
     "data": {
      "text/plain": [
       "id             6\n",
       "name           0\n",
       "docks         15\n",
       "in_service    30\n",
       "latitude       5\n",
       "longitude      5\n",
       "coordinate     5\n",
       "dtype: int64"
      ]
     },
     "execution_count": 98,
     "metadata": {},
     "output_type": "execute_result"
    }
   ],
   "source": [
    "stations.isnull().sum()"
   ]
  },
  {
   "cell_type": "code",
   "execution_count": 99,
   "metadata": {},
   "outputs": [],
   "source": [
    "# drop rows where coordinate column is null\n",
    "stations.dropna(subset = ['coordinate'], inplace = True)\n",
    "\n",
    "# For input\n",
    "X = stations[ ['latitude', 'longitude'] ]\n",
    "# For output\n",
    "y = stations['name']"
   ]
  },
  {
   "cell_type": "code",
   "execution_count": 102,
   "metadata": {},
   "outputs": [
    {
     "data": {
      "text/plain": [
       "id             6\n",
       "name           0\n",
       "docks         10\n",
       "in_service    25\n",
       "latitude       0\n",
       "longitude      0\n",
       "coordinate     0\n",
       "dtype: int64"
      ]
     },
     "execution_count": 102,
     "metadata": {},
     "output_type": "execute_result"
    }
   ],
   "source": [
    "stations.isnull().sum()"
   ]
  },
  {
   "cell_type": "markdown",
   "metadata": {},
   "source": [
    "## Learning and Predicting"
   ]
  },
  {
   "cell_type": "markdown",
   "metadata": {},
   "source": [
    "### Learning"
   ]
  },
  {
   "cell_type": "code",
   "execution_count": 111,
   "metadata": {},
   "outputs": [
    {
     "data": {
      "text/html": [
       "<style>#sk-container-id-6 {color: black;background-color: white;}#sk-container-id-6 pre{padding: 0;}#sk-container-id-6 div.sk-toggleable {background-color: white;}#sk-container-id-6 label.sk-toggleable__label {cursor: pointer;display: block;width: 100%;margin-bottom: 0;padding: 0.3em;box-sizing: border-box;text-align: center;}#sk-container-id-6 label.sk-toggleable__label-arrow:before {content: \"▸\";float: left;margin-right: 0.25em;color: #696969;}#sk-container-id-6 label.sk-toggleable__label-arrow:hover:before {color: black;}#sk-container-id-6 div.sk-estimator:hover label.sk-toggleable__label-arrow:before {color: black;}#sk-container-id-6 div.sk-toggleable__content {max-height: 0;max-width: 0;overflow: hidden;text-align: left;background-color: #f0f8ff;}#sk-container-id-6 div.sk-toggleable__content pre {margin: 0.2em;color: black;border-radius: 0.25em;background-color: #f0f8ff;}#sk-container-id-6 input.sk-toggleable__control:checked~div.sk-toggleable__content {max-height: 200px;max-width: 100%;overflow: auto;}#sk-container-id-6 input.sk-toggleable__control:checked~label.sk-toggleable__label-arrow:before {content: \"▾\";}#sk-container-id-6 div.sk-estimator input.sk-toggleable__control:checked~label.sk-toggleable__label {background-color: #d4ebff;}#sk-container-id-6 div.sk-label input.sk-toggleable__control:checked~label.sk-toggleable__label {background-color: #d4ebff;}#sk-container-id-6 input.sk-hidden--visually {border: 0;clip: rect(1px 1px 1px 1px);clip: rect(1px, 1px, 1px, 1px);height: 1px;margin: -1px;overflow: hidden;padding: 0;position: absolute;width: 1px;}#sk-container-id-6 div.sk-estimator {font-family: monospace;background-color: #f0f8ff;border: 1px dotted black;border-radius: 0.25em;box-sizing: border-box;margin-bottom: 0.5em;}#sk-container-id-6 div.sk-estimator:hover {background-color: #d4ebff;}#sk-container-id-6 div.sk-parallel-item::after {content: \"\";width: 100%;border-bottom: 1px solid gray;flex-grow: 1;}#sk-container-id-6 div.sk-label:hover label.sk-toggleable__label {background-color: #d4ebff;}#sk-container-id-6 div.sk-serial::before {content: \"\";position: absolute;border-left: 1px solid gray;box-sizing: border-box;top: 0;bottom: 0;left: 50%;z-index: 0;}#sk-container-id-6 div.sk-serial {display: flex;flex-direction: column;align-items: center;background-color: white;padding-right: 0.2em;padding-left: 0.2em;position: relative;}#sk-container-id-6 div.sk-item {position: relative;z-index: 1;}#sk-container-id-6 div.sk-parallel {display: flex;align-items: stretch;justify-content: center;background-color: white;position: relative;}#sk-container-id-6 div.sk-item::before, #sk-container-id-6 div.sk-parallel-item::before {content: \"\";position: absolute;border-left: 1px solid gray;box-sizing: border-box;top: 0;bottom: 0;left: 50%;z-index: -1;}#sk-container-id-6 div.sk-parallel-item {display: flex;flex-direction: column;z-index: 1;position: relative;background-color: white;}#sk-container-id-6 div.sk-parallel-item:first-child::after {align-self: flex-end;width: 50%;}#sk-container-id-6 div.sk-parallel-item:last-child::after {align-self: flex-start;width: 50%;}#sk-container-id-6 div.sk-parallel-item:only-child::after {width: 0;}#sk-container-id-6 div.sk-dashed-wrapped {border: 1px dashed gray;margin: 0 0.4em 0.5em 0.4em;box-sizing: border-box;padding-bottom: 0.4em;background-color: white;}#sk-container-id-6 div.sk-label label {font-family: monospace;font-weight: bold;display: inline-block;line-height: 1.2em;}#sk-container-id-6 div.sk-label-container {text-align: center;}#sk-container-id-6 div.sk-container {/* jupyter's `normalize.less` sets `[hidden] { display: none; }` but bootstrap.min.css set `[hidden] { display: none !important; }` so we also need the `!important` here to be able to override the default hidden behavior on the sphinx rendered scikit-learn.org. See: https://github.com/scikit-learn/scikit-learn/issues/21755 */display: inline-block !important;position: relative;}#sk-container-id-6 div.sk-text-repr-fallback {display: none;}</style><div id=\"sk-container-id-6\" class=\"sk-top-container\"><div class=\"sk-text-repr-fallback\"><pre>DecisionTreeClassifier()</pre><b>In a Jupyter environment, please rerun this cell to show the HTML representation or trust the notebook. <br />On GitHub, the HTML representation is unable to render, please try loading this page with nbviewer.org.</b></div><div class=\"sk-container\" hidden><div class=\"sk-item\"><div class=\"sk-estimator sk-toggleable\"><input class=\"sk-toggleable__control sk-hidden--visually\" id=\"sk-estimator-id-6\" type=\"checkbox\" checked><label for=\"sk-estimator-id-6\" class=\"sk-toggleable__label sk-toggleable__label-arrow\">DecisionTreeClassifier</label><div class=\"sk-toggleable__content\"><pre>DecisionTreeClassifier()</pre></div></div></div></div></div>"
      ],
      "text/plain": [
       "DecisionTreeClassifier()"
      ]
     },
     "execution_count": 111,
     "metadata": {},
     "output_type": "execute_result"
    }
   ],
   "source": [
    "X = stations[ ['latitude', 'longitude'] ]\n",
    "y = stations['name']\n",
    "\n",
    "Xs = df_filt[ ['start_lat', 'start_lng'] ]\n",
    "Xe = df_filt[ ['end_lat', 'end_lng'] ]\n",
    "\n",
    "model = DecisionTreeClassifier()\n",
    "model.fit(X.values, y)"
   ]
  },
  {
   "cell_type": "markdown",
   "metadata": {},
   "source": [
    "### Predicting"
   ]
  },
  {
   "cell_type": "code",
   "execution_count": 112,
   "metadata": {},
   "outputs": [
    {
     "name": "stderr",
     "output_type": "stream",
     "text": [
      "c:\\Users\\Chris\\AppData\\Local\\Programs\\Python\\Python310\\lib\\site-packages\\sklearn\\base.py:443: UserWarning: X has feature names, but DecisionTreeClassifier was fitted without feature names\n",
      "  warnings.warn(\n"
     ]
    }
   ],
   "source": [
    "# start station\n",
    "s = model.predict(Xs)\n",
    "# end station\n",
    "e = model.predict(Xe)"
   ]
  },
  {
   "cell_type": "code",
   "execution_count": 114,
   "metadata": {},
   "outputs": [
    {
     "name": "stderr",
     "output_type": "stream",
     "text": [
      "C:\\Users\\Chris\\AppData\\Local\\Temp\\ipykernel_32456\\2889721441.py:1: SettingWithCopyWarning: \n",
      "A value is trying to be set on a copy of a slice from a DataFrame.\n",
      "Try using .loc[row_indexer,col_indexer] = value instead\n",
      "\n",
      "See the caveats in the documentation: https://pandas.pydata.org/pandas-docs/stable/user_guide/indexing.html#returning-a-view-versus-a-copy\n",
      "  df_filt['start_station_name'] = s\n",
      "C:\\Users\\Chris\\AppData\\Local\\Temp\\ipykernel_32456\\2889721441.py:2: SettingWithCopyWarning: \n",
      "A value is trying to be set on a copy of a slice from a DataFrame.\n",
      "Try using .loc[row_indexer,col_indexer] = value instead\n",
      "\n",
      "See the caveats in the documentation: https://pandas.pydata.org/pandas-docs/stable/user_guide/indexing.html#returning-a-view-versus-a-copy\n",
      "  df_filt['end_station_name'] = e\n"
     ]
    }
   ],
   "source": [
    "df_filt['start_station_name'] = s\n",
    "df_filt['end_station_name'] = e"
   ]
  },
  {
   "cell_type": "code",
   "execution_count": 115,
   "metadata": {},
   "outputs": [
    {
     "data": {
      "text/plain": [
       "ride_id                    0\n",
       "rideable_type              0\n",
       "started_at                 0\n",
       "ended_at                   0\n",
       "start_station_name         0\n",
       "start_station_id      785564\n",
       "end_station_name           0\n",
       "end_station_id        841082\n",
       "start_lat                  0\n",
       "start_lng                  0\n",
       "end_lat                    0\n",
       "end_lng                    0\n",
       "member_casual              0\n",
       "dtype: int64"
      ]
     },
     "execution_count": 115,
     "metadata": {},
     "output_type": "execute_result"
    }
   ],
   "source": [
    "df_filt.isnull().sum()"
   ]
  },
  {
   "cell_type": "code",
   "execution_count": 117,
   "metadata": {},
   "outputs": [
    {
     "data": {
      "text/html": [
       "<div>\n",
       "<style scoped>\n",
       "    .dataframe tbody tr th:only-of-type {\n",
       "        vertical-align: middle;\n",
       "    }\n",
       "\n",
       "    .dataframe tbody tr th {\n",
       "        vertical-align: top;\n",
       "    }\n",
       "\n",
       "    .dataframe thead th {\n",
       "        text-align: right;\n",
       "    }\n",
       "</style>\n",
       "<table border=\"1\" class=\"dataframe\">\n",
       "  <thead>\n",
       "    <tr style=\"text-align: right;\">\n",
       "      <th></th>\n",
       "      <th>ride_id</th>\n",
       "      <th>rideable_type</th>\n",
       "      <th>started_at</th>\n",
       "      <th>ended_at</th>\n",
       "      <th>start_station_name</th>\n",
       "      <th>start_station_id</th>\n",
       "      <th>end_station_name</th>\n",
       "      <th>end_station_id</th>\n",
       "      <th>start_lat</th>\n",
       "      <th>start_lng</th>\n",
       "      <th>end_lat</th>\n",
       "      <th>end_lng</th>\n",
       "      <th>member_casual</th>\n",
       "    </tr>\n",
       "  </thead>\n",
       "  <tbody>\n",
       "    <tr>\n",
       "      <th>630367</th>\n",
       "      <td>60742256DFFFCA29</td>\n",
       "      <td>electric_bike</td>\n",
       "      <td>2020-07-31 08:30:34</td>\n",
       "      <td>2020-07-31 08:57:54</td>\n",
       "      <td>Rockwell St &amp; Archer Ave</td>\n",
       "      <td>NaN</td>\n",
       "      <td>Wallace St &amp; 35th St</td>\n",
       "      <td>367.0</td>\n",
       "      <td>41.900000</td>\n",
       "      <td>-87.690000</td>\n",
       "      <td>41.830704</td>\n",
       "      <td>-87.656085</td>\n",
       "      <td>member</td>\n",
       "    </tr>\n",
       "    <tr>\n",
       "      <th>642029</th>\n",
       "      <td>EBBD4FE9C8A95116</td>\n",
       "      <td>electric_bike</td>\n",
       "      <td>2020-07-29 19:02:25</td>\n",
       "      <td>2020-07-29 19:22:40</td>\n",
       "      <td>Rockwell St &amp; Archer Ave</td>\n",
       "      <td>NaN</td>\n",
       "      <td>Western Ave &amp; Walton St</td>\n",
       "      <td>374.0</td>\n",
       "      <td>41.900000</td>\n",
       "      <td>-87.690000</td>\n",
       "      <td>41.898404</td>\n",
       "      <td>-87.686592</td>\n",
       "      <td>member</td>\n",
       "    </tr>\n",
       "    <tr>\n",
       "      <th>653657</th>\n",
       "      <td>976336C6499A7189</td>\n",
       "      <td>electric_bike</td>\n",
       "      <td>2020-07-30 22:02:45</td>\n",
       "      <td>2020-07-30 22:17:54</td>\n",
       "      <td>Clarendon Ave &amp; Leland Ave</td>\n",
       "      <td>NaN</td>\n",
       "      <td>Broadway &amp; Sheridan Rd</td>\n",
       "      <td>251.0</td>\n",
       "      <td>41.940000</td>\n",
       "      <td>-87.650000</td>\n",
       "      <td>41.967841</td>\n",
       "      <td>-87.649991</td>\n",
       "      <td>member</td>\n",
       "    </tr>\n",
       "    <tr>\n",
       "      <th>653658</th>\n",
       "      <td>9A2F60AEB9CABA6A</td>\n",
       "      <td>electric_bike</td>\n",
       "      <td>2020-07-30 21:46:34</td>\n",
       "      <td>2020-07-30 21:55:33</td>\n",
       "      <td>Wilton Ave &amp; Belmont Ave</td>\n",
       "      <td>117.0</td>\n",
       "      <td>Clarendon Ave &amp; Leland Ave</td>\n",
       "      <td>NaN</td>\n",
       "      <td>41.940119</td>\n",
       "      <td>-87.653015</td>\n",
       "      <td>41.940000</td>\n",
       "      <td>-87.650000</td>\n",
       "      <td>member</td>\n",
       "    </tr>\n",
       "    <tr>\n",
       "      <th>670853</th>\n",
       "      <td>EC549CDABDE45F98</td>\n",
       "      <td>electric_bike</td>\n",
       "      <td>2020-07-31 15:54:41</td>\n",
       "      <td>2020-07-31 16:00:35</td>\n",
       "      <td>California Ave &amp; Francis Pl Temp</td>\n",
       "      <td>NaN</td>\n",
       "      <td>Lincoln Ave &amp; Belle Plaine Ave</td>\n",
       "      <td>NaN</td>\n",
       "      <td>41.920000</td>\n",
       "      <td>-87.700000</td>\n",
       "      <td>41.910000</td>\n",
       "      <td>-87.680000</td>\n",
       "      <td>member</td>\n",
       "    </tr>\n",
       "    <tr>\n",
       "      <th>...</th>\n",
       "      <td>...</td>\n",
       "      <td>...</td>\n",
       "      <td>...</td>\n",
       "      <td>...</td>\n",
       "      <td>...</td>\n",
       "      <td>...</td>\n",
       "      <td>...</td>\n",
       "      <td>...</td>\n",
       "      <td>...</td>\n",
       "      <td>...</td>\n",
       "      <td>...</td>\n",
       "      <td>...</td>\n",
       "      <td>...</td>\n",
       "    </tr>\n",
       "    <tr>\n",
       "      <th>8709850</th>\n",
       "      <td>08E5EC2EC583D230</td>\n",
       "      <td>electric_bike</td>\n",
       "      <td>2021-12-17 07:55:47</td>\n",
       "      <td>2021-12-17 08:03:45</td>\n",
       "      <td>Canal St &amp; Madison St</td>\n",
       "      <td>13341</td>\n",
       "      <td>Fairbanks Ct &amp; Grand Ave</td>\n",
       "      <td>NaN</td>\n",
       "      <td>41.882002</td>\n",
       "      <td>-87.639457</td>\n",
       "      <td>41.890000</td>\n",
       "      <td>-87.620000</td>\n",
       "      <td>casual</td>\n",
       "    </tr>\n",
       "    <tr>\n",
       "      <th>8709852</th>\n",
       "      <td>DFE48801A70DFEA7</td>\n",
       "      <td>electric_bike</td>\n",
       "      <td>2021-12-23 21:28:41</td>\n",
       "      <td>2021-12-23 21:36:27</td>\n",
       "      <td>Clinton St &amp; Madison St</td>\n",
       "      <td>13341</td>\n",
       "      <td>Franklin St &amp; Monroe St</td>\n",
       "      <td>NaN</td>\n",
       "      <td>41.882197</td>\n",
       "      <td>-87.639226</td>\n",
       "      <td>41.880000</td>\n",
       "      <td>-87.650000</td>\n",
       "      <td>casual</td>\n",
       "    </tr>\n",
       "    <tr>\n",
       "      <th>8709853</th>\n",
       "      <td>92BBAB97D1683D69</td>\n",
       "      <td>electric_bike</td>\n",
       "      <td>2021-12-24 15:42:09</td>\n",
       "      <td>2021-12-24 19:29:35</td>\n",
       "      <td>Green St &amp; Madison St</td>\n",
       "      <td>13341</td>\n",
       "      <td>Franklin St &amp; Monroe St</td>\n",
       "      <td>NaN</td>\n",
       "      <td>41.881800</td>\n",
       "      <td>-87.639970</td>\n",
       "      <td>41.880000</td>\n",
       "      <td>-87.640000</td>\n",
       "      <td>casual</td>\n",
       "    </tr>\n",
       "    <tr>\n",
       "      <th>8709854</th>\n",
       "      <td>847431F3D5353AB7</td>\n",
       "      <td>electric_bike</td>\n",
       "      <td>2021-12-12 13:36:55</td>\n",
       "      <td>2021-12-12 13:56:08</td>\n",
       "      <td>Clinton St &amp; Madison St</td>\n",
       "      <td>13341</td>\n",
       "      <td>Lake Park Ave &amp; 35th St</td>\n",
       "      <td>NaN</td>\n",
       "      <td>41.882289</td>\n",
       "      <td>-87.639752</td>\n",
       "      <td>41.890000</td>\n",
       "      <td>-87.610000</td>\n",
       "      <td>casual</td>\n",
       "    </tr>\n",
       "    <tr>\n",
       "      <th>8709857</th>\n",
       "      <td>C414F654A28635B8</td>\n",
       "      <td>electric_bike</td>\n",
       "      <td>2021-12-13 09:00:26</td>\n",
       "      <td>2021-12-13 09:14:39</td>\n",
       "      <td>Lawndale Ave &amp; 16th St</td>\n",
       "      <td>362.0</td>\n",
       "      <td>Homan Ave &amp; 26th St</td>\n",
       "      <td>NaN</td>\n",
       "      <td>41.860000</td>\n",
       "      <td>-87.720000</td>\n",
       "      <td>41.850000</td>\n",
       "      <td>-87.710000</td>\n",
       "      <td>member</td>\n",
       "    </tr>\n",
       "  </tbody>\n",
       "</table>\n",
       "<p>1149165 rows × 13 columns</p>\n",
       "</div>"
      ],
      "text/plain": [
       "                  ride_id  rideable_type           started_at  \\\n",
       "630367   60742256DFFFCA29  electric_bike  2020-07-31 08:30:34   \n",
       "642029   EBBD4FE9C8A95116  electric_bike  2020-07-29 19:02:25   \n",
       "653657   976336C6499A7189  electric_bike  2020-07-30 22:02:45   \n",
       "653658   9A2F60AEB9CABA6A  electric_bike  2020-07-30 21:46:34   \n",
       "670853   EC549CDABDE45F98  electric_bike  2020-07-31 15:54:41   \n",
       "...                   ...            ...                  ...   \n",
       "8709850  08E5EC2EC583D230  electric_bike  2021-12-17 07:55:47   \n",
       "8709852  DFE48801A70DFEA7  electric_bike  2021-12-23 21:28:41   \n",
       "8709853  92BBAB97D1683D69  electric_bike  2021-12-24 15:42:09   \n",
       "8709854  847431F3D5353AB7  electric_bike  2021-12-12 13:36:55   \n",
       "8709857  C414F654A28635B8  electric_bike  2021-12-13 09:00:26   \n",
       "\n",
       "                    ended_at                start_station_name  \\\n",
       "630367   2020-07-31 08:57:54          Rockwell St & Archer Ave   \n",
       "642029   2020-07-29 19:22:40          Rockwell St & Archer Ave   \n",
       "653657   2020-07-30 22:17:54        Clarendon Ave & Leland Ave   \n",
       "653658   2020-07-30 21:55:33          Wilton Ave & Belmont Ave   \n",
       "670853   2020-07-31 16:00:35  California Ave & Francis Pl Temp   \n",
       "...                      ...                               ...   \n",
       "8709850  2021-12-17 08:03:45             Canal St & Madison St   \n",
       "8709852  2021-12-23 21:36:27           Clinton St & Madison St   \n",
       "8709853  2021-12-24 19:29:35             Green St & Madison St   \n",
       "8709854  2021-12-12 13:56:08           Clinton St & Madison St   \n",
       "8709857  2021-12-13 09:14:39            Lawndale Ave & 16th St   \n",
       "\n",
       "        start_station_id                end_station_name end_station_id  \\\n",
       "630367               NaN            Wallace St & 35th St          367.0   \n",
       "642029               NaN         Western Ave & Walton St          374.0   \n",
       "653657               NaN          Broadway & Sheridan Rd          251.0   \n",
       "653658             117.0      Clarendon Ave & Leland Ave            NaN   \n",
       "670853               NaN  Lincoln Ave & Belle Plaine Ave            NaN   \n",
       "...                  ...                             ...            ...   \n",
       "8709850            13341        Fairbanks Ct & Grand Ave            NaN   \n",
       "8709852            13341         Franklin St & Monroe St            NaN   \n",
       "8709853            13341         Franklin St & Monroe St            NaN   \n",
       "8709854            13341         Lake Park Ave & 35th St            NaN   \n",
       "8709857            362.0             Homan Ave & 26th St            NaN   \n",
       "\n",
       "         start_lat  start_lng    end_lat    end_lng member_casual  \n",
       "630367   41.900000 -87.690000  41.830704 -87.656085        member  \n",
       "642029   41.900000 -87.690000  41.898404 -87.686592        member  \n",
       "653657   41.940000 -87.650000  41.967841 -87.649991        member  \n",
       "653658   41.940119 -87.653015  41.940000 -87.650000        member  \n",
       "670853   41.920000 -87.700000  41.910000 -87.680000        member  \n",
       "...            ...        ...        ...        ...           ...  \n",
       "8709850  41.882002 -87.639457  41.890000 -87.620000        casual  \n",
       "8709852  41.882197 -87.639226  41.880000 -87.650000        casual  \n",
       "8709853  41.881800 -87.639970  41.880000 -87.640000        casual  \n",
       "8709854  41.882289 -87.639752  41.890000 -87.610000        casual  \n",
       "8709857  41.860000 -87.720000  41.850000 -87.710000        member  \n",
       "\n",
       "[1149165 rows x 13 columns]"
      ]
     },
     "execution_count": 117,
     "metadata": {},
     "output_type": "execute_result"
    }
   ],
   "source": [
    "df_filt"
   ]
  },
  {
   "cell_type": "markdown",
   "metadata": {},
   "source": [
    "## Confirming accuracy\n",
    "\n",
    "By checking the latitude and longitude of `Rockwell St & Archer Ave\t` to Stations table, we will pointed at a different location using `Google Maps`.\n",
    " \n",
    "This project failed, got to dig deeper and explore alternative ways or try a different approach."
   ]
  }
 ],
 "metadata": {
  "kernelspec": {
   "display_name": "Python 3.10.4 64-bit",
   "language": "python",
   "name": "python3"
  },
  "language_info": {
   "codemirror_mode": {
    "name": "ipython",
    "version": 3
   },
   "file_extension": ".py",
   "mimetype": "text/x-python",
   "name": "python",
   "nbconvert_exporter": "python",
   "pygments_lexer": "ipython3",
   "version": "3.10.4"
  },
  "orig_nbformat": 4,
  "vscode": {
   "interpreter": {
    "hash": "9337a79df3e5d869f0c5777e0d2b1209a728c6a52c1d44e22a85de3e5a3843fd"
   }
  }
 },
 "nbformat": 4,
 "nbformat_minor": 2
}
