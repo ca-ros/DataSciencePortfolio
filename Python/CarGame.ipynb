{
 "cells": [
  {
   "cell_type": "markdown",
   "metadata": {},
   "source": [
    "## Car Game\n",
    "\n",
    "This game is a python project guided by [Mosh](https://www.youtube.com/c/programmingwithmosh), and it is about instructing the car whether to **START** or **STOP** and it will update you about the status of the vehicle.\n",
    "\n",
    "The commands are:\n",
    "- \"start\" to start the car\n",
    "- \"stop\" to stop the car\n",
    "\n",
    "Run the **code cell** below to start the game.\n",
    "\n",
    "Enjoy!"
   ]
  },
  {
   "cell_type": "code",
   "execution_count": null,
   "metadata": {},
   "outputs": [],
   "source": [
    "command = \"\"\n",
    "started = False\n",
    "stopped = True\n",
    "help_msg = '''\n",
    "> start - to start the car\n",
    "> stop - to stop the car\n",
    "> quit - to exit\n",
    "'''\n",
    "while True:\n",
    "    command = input(\"> \").lower()\n",
    "    if command == \"start\":\n",
    "        if started:\n",
    "            print(\"Car is already started!\")\n",
    "        else:\n",
    "            started = True\n",
    "            stopped = False\n",
    "            print(\"Car started... Ready to go!\")\n",
    "    elif command == \"stop\":\n",
    "        if not started:\n",
    "            print(\"Car is already stopped!\")\n",
    "        else:\n",
    "            started = False\n",
    "            print(\"Car stopped.\")\n",
    "    elif command == \"help\":\n",
    "        print(help_msg)\n",
    "    elif command == \"quit\":\n",
    "        break\n",
    "    else:\n",
    "        print(\"I don't understand that...\")"
   ]
  }
 ],
 "metadata": {
  "kernelspec": {
   "display_name": "Python 3.10.4 64-bit",
   "language": "python",
   "name": "python3"
  },
  "language_info": {
   "codemirror_mode": {
    "name": "ipython",
    "version": 3
   },
   "file_extension": ".py",
   "mimetype": "text/x-python",
   "name": "python",
   "nbconvert_exporter": "python",
   "pygments_lexer": "ipython3",
   "version": "3.10.4"
  },
  "orig_nbformat": 4,
  "vscode": {
   "interpreter": {
    "hash": "9337a79df3e5d869f0c5777e0d2b1209a728c6a52c1d44e22a85de3e5a3843fd"
   }
  }
 },
 "nbformat": 4,
 "nbformat_minor": 2
}
