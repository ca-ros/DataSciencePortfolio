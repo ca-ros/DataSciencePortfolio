{
 "cells": [
  {
   "cell_type": "markdown",
   "metadata": {},
   "source": [
    "![](https://media.giphy.com/media/l0HluULNylbTu44Ao/giphy.gif)\n",
    "## Introduction\n",
    "\n",
    "Take an old bicycle. Paint it white. Leave it anywhere in the city. Tell people to use it. This was the first urban bike-sharing concept in history. Launched in Amsterdam in the 1960s, it was called the Witte Fietsenplan (the “white bicycle plan”). And it was not a great success.\n",
    "\n",
    "Here, we will identify the following:\n",
    "- Which stations are the most popular?\n",
    "- What are the peak hours of bike usage?\n",
    "- How do holidays and events affect bike usage?\n",
    "- What is the possible purpose of rentals? Casual and Subscriber?\n",
    "- How do station's popularity goes over time?\n",
    "\n",
    "Company: [Divvy](https://divvybikes.com) from Chicago<br>\n",
    "Location: Chicago\n",
    "\n",
    "The dataset is provided by [Divvy](https://divvybikes.com), compiled and cleaned by [Chris](https://github.com/ca-ros) (see [documentation](https://github.com/ca-ros/DataSciencePortfolio/blob/master/Bike-trips-in-Chicago/data%20wrangling/README.md))."
   ]
  },
  {
   "cell_type": "code",
   "execution_count": 15,
   "metadata": {},
   "outputs": [],
   "source": [
    "# Import required packages\n",
    "import numpy as np\n",
    "import pandas as pd\n",
    "import matplotlib.pyplot as plt\n",
    "import seaborn as sns"
   ]
  },
  {
   "cell_type": "markdown",
   "metadata": {},
   "source": [
    "## Overview of data"
   ]
  },
  {
   "cell_type": "code",
   "execution_count": 16,
   "metadata": {},
   "outputs": [],
   "source": [
    "data = pd.read_csv(\n",
    "    \"C:/Users/Chris/Documents/GitHub/large csv files/divvy-bikeshare/trips.csv\", \n",
    "    dtype = {\n",
    "        'ride_id': str, \n",
    "        'rideable_type': str, \n",
    "        'bike_id': 'Int64', \n",
    "        'trip_duration': int,\n",
    "        'user_type': str, \n",
    "        'gender': str, \n",
    "        'birth_year': 'Int64'})"
   ]
  },
  {
   "cell_type": "code",
   "execution_count": 17,
   "metadata": {},
   "outputs": [
    {
     "name": "stdout",
     "output_type": "stream",
     "text": [
      "The first 5 rows of data are:\n",
      "\n",
      "  ride_id rideable_type  bike_id           start_time             end_time  \\\n",
      "0    3940           NaN      914  2013-06-27 01:06:00  2013-06-27 09:46:00   \n",
      "1    4095           NaN      480  2013-06-27 12:06:00  2013-06-27 12:11:00   \n",
      "2    4113           NaN      711  2013-06-27 11:09:00  2013-06-27 11:11:00   \n",
      "3    4118           NaN      480  2013-06-27 12:11:00  2013-06-27 12:16:00   \n",
      "4    4119           NaN      711  2013-06-27 11:12:00  2013-06-27 11:13:00   \n",
      "\n",
      "   trip_duration  start_station_id            start_station_name  \\\n",
      "0          31177              91.0  Clinton St & Washington Blvd   \n",
      "1            301              85.0         Michigan Ave & Oak St   \n",
      "2            140              88.0      Racine Ave & Randolph St   \n",
      "3            316              85.0         Michigan Ave & Oak St   \n",
      "4             87              88.0      Racine Ave & Randolph St   \n",
      "\n",
      "   end_station_id            end_station_name   user_type gender  birth_year  \n",
      "0            48.0  Larrabee St & Kingsbury St  Subscriber   Male        1982  \n",
      "1            85.0       Michigan Ave & Oak St  Subscriber   Male        1982  \n",
      "2            88.0    Racine Ave & Randolph St  Subscriber   Male        1982  \n",
      "3            28.0  Larrabee St & Menomonee St    Customer    NaN        <NA>  \n",
      "4            88.0    Racine Ave & Randolph St  Subscriber   Male        1982  \n",
      "\n",
      "\n",
      "\n",
      "Dataset has 33563529 rows and 13 columns\n",
      "\n",
      "\n",
      "\n",
      "Datatype: \n",
      "\n",
      "ride_id                object\n",
      "rideable_type          object\n",
      "bike_id                 Int64\n",
      "start_time             object\n",
      "end_time               object\n",
      "trip_duration           int32\n",
      "start_station_id      float64\n",
      "start_station_name     object\n",
      "end_station_id        float64\n",
      "end_station_name       object\n",
      "user_type              object\n",
      "gender                 object\n",
      "birth_year              Int64\n",
      "dtype: object\n",
      "\n",
      "\n",
      "\n",
      "The number of null values for each column are: \n",
      "\n",
      "ride_id                      0\n",
      "rideable_type         24426783\n",
      "bike_id                9136746\n",
      "start_time                   0\n",
      "end_time                     0\n",
      "trip_duration                0\n",
      "start_station_id        822842\n",
      "start_station_name      785462\n",
      "end_station_id          886972\n",
      "end_station_name        850051\n",
      "user_type                    0\n",
      "gender                14961677\n",
      "birth_year            14933394\n",
      "dtype: int64\n",
      "\n",
      "\n",
      "\n",
      "Data summary: \n",
      "\n",
      "            bike_id  trip_duration  start_station_id  end_station_id  \\\n",
      "count  2.442678e+07   3.356353e+07      3.274069e+07    3.267656e+07   \n",
      "mean   2.837794e+03   1.206004e+03      4.998105e+14    4.124270e+14   \n",
      "std    1.772165e+03   1.829677e+04      2.707892e+16    2.460716e+16   \n",
      "min    1.000000e+00  -1.742998e+06      1.000000e+00    1.000000e+00   \n",
      "25%    1.327000e+03   4.150000e+02      7.600000e+01    7.600000e+01   \n",
      "50%    2.664000e+03   7.230000e+02      1.690000e+02    1.700000e+02   \n",
      "75%    4.250000e+03   1.254000e+03      2.840000e+02    2.840000e+02   \n",
      "max    6.946000e+03   1.433640e+07      1.606778e+18    1.606778e+18   \n",
      "\n",
      "         birth_year  \n",
      "count  1.863014e+07  \n",
      "mean   1.981224e+03  \n",
      "std    1.090653e+01  \n",
      "min    1.759000e+03  \n",
      "25%    1.975000e+03  \n",
      "50%    1.984000e+03  \n",
      "75%    1.989000e+03  \n",
      "max    2.017000e+03  \n"
     ]
    }
   ],
   "source": [
    "def overview():\n",
    "    print(\"The first 5 rows of data are:\\n\")\n",
    "    print(data.head(5))\n",
    "    print(\"\\n\\n\\nDataset has {} rows and {} columns\".format(data.shape[0], data.shape[1]))\n",
    "    print(\"\\n\\n\\nDatatype: \\n\")\n",
    "    print(data.dtypes)\n",
    "    print(\"\\n\\n\\nThe number of null values for each column are: \\n\")\n",
    "    print(data.isnull().sum())\n",
    "    print(\"\\n\\n\\nData summary: \\n\")\n",
    "    print(data.describe())\n",
    "    return data\n",
    "\n",
    "# Lastly, assigning a variable to overview()\n",
    "data = overview()"
   ]
  },
  {
   "cell_type": "markdown",
   "metadata": {},
   "source": [
    "### What do we see here?"
   ]
  },
  {
   "cell_type": "code",
   "execution_count": 29,
   "metadata": {},
   "outputs": [
    {
     "name": "stdout",
     "output_type": "stream",
     "text": [
      "Collecting psycopg2-binaryNote: you may need to restart the kernel to use updated packages.\n",
      "\n",
      "  Downloading psycopg2_binary-2.9.3-cp310-cp310-win_amd64.whl (1.2 MB)\n",
      "     ---------------------------------------- 1.2/1.2 MB 18.7 MB/s eta 0:00:00\n",
      "Installing collected packages: psycopg2-binary\n",
      "Successfully installed psycopg2-binary-2.9.3\n"
     ]
    }
   ],
   "source": [
    "pip install psycopg2-binary"
   ]
  },
  {
   "cell_type": "markdown",
   "metadata": {},
   "source": [
    "## Summary"
   ]
  }
 ],
 "metadata": {
  "kernelspec": {
   "display_name": "Python 3.10.4 64-bit",
   "language": "python",
   "name": "python3"
  },
  "language_info": {
   "codemirror_mode": {
    "name": "ipython",
    "version": 3
   },
   "file_extension": ".py",
   "mimetype": "text/x-python",
   "name": "python",
   "nbconvert_exporter": "python",
   "pygments_lexer": "ipython3",
   "version": "3.10.4"
  },
  "orig_nbformat": 4,
  "vscode": {
   "interpreter": {
    "hash": "9337a79df3e5d869f0c5777e0d2b1209a728c6a52c1d44e22a85de3e5a3843fd"
   }
  }
 },
 "nbformat": 4,
 "nbformat_minor": 2
}
