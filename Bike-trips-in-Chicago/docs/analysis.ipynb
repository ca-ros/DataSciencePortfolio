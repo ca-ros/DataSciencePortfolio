{
 "cells": [
  {
   "cell_type": "markdown",
   "metadata": {},
   "source": [
    "Note:\n",
    "This is an unfinished notebook where I'm using only a partial amount of data before using the entire data set. \n",
    "\n",
    "The data used to test here is February 2021\n",
    "\n",
    "\n",
    "<!--![](https://media.giphy.com/media/l0HluULNylbTu44Ao/giphy.gif)-->\n",
    "## Introduction\n",
    "\n",
    "In this project, we carry out exploratory analysis of the Divvy dataset by setting out research questions, and then exploring relationship between stations, user behaviors, user types, and bike types to answer those questions.\n",
    "\n",
    "*The project was completed as a part of Google's Data Analytics Professional Certificate online course on Coursera.*"
   ]
  },
  {
   "cell_type": "markdown",
   "metadata": {},
   "source": [
    "## Setup"
   ]
  },
  {
   "cell_type": "code",
   "execution_count": 1,
   "metadata": {},
   "outputs": [],
   "source": [
    "# Importing required packages\n",
    "import numpy as np\n",
    "import pandas as pd\n",
    "import matplotlib.pyplot as plt\n",
    "import seaborn as sns\n",
    "\n",
    "plt.style.use('seaborn')"
   ]
  },
  {
   "cell_type": "markdown",
   "metadata": {},
   "source": [
    "## The Data\n",
    "\n",
    "This dataset contains biketrip data in Chicago from year 2020-2021. The data is provided by [Divvy bikes](https://divvybikes.com) according to the [Divvy Data License Agreement](https://ride.divvybikes.com/data-license-agreement).\n",
    "\n",
    "Each trip is anonymized and includes:\n",
    "- Trip start day and time\n",
    "- Trip end day and time\n",
    "- Trip start station\n",
    "- Trip end station\n",
    "- Rider type (Member, Single Ride, and Day Pass)\n",
    "- Rideable type (Casual, Docked, Electric)\n",
    "\n",
    "The data has been processed to remove trips that are taken by staff as they service and inspect the system; and any trips that were below 60 seconds in length (potentially false starts or users trying to re-dock a bike to ensure it was secure).\n",
    "\n",
    "The dataset is wrangled by [Chris](https://www.linkedin.com/in/arthur0418/). To know more about data wrangling documentation, visit this [link](https://github.com/ca-ros/divvy-bikeshare/blob/master/docs/data_wrangling.md).\n",
    "\n",
    "> To know more about Divvy and the dataset, visit this [link](https://ride.divvybikes.com/system-data)."
   ]
  },
  {
   "cell_type": "markdown",
   "metadata": {},
   "source": [
    "## Exploratory data analysis\n",
    "### Research questions\n",
    "- How do annual members and casual riders use Divvy bikes differently?\n",
    "- Why would casual riders buy Divvy bikes annual membership?\n",
    "- How can Divvy bikes use digital media to influence casual riders to become members?"
   ]
  },
  {
   "cell_type": "markdown",
   "metadata": {},
   "source": [
    "## Overview of data"
   ]
  },
  {
   "cell_type": "code",
   "execution_count": 2,
   "metadata": {},
   "outputs": [
    {
     "name": "stdout",
     "output_type": "stream",
     "text": [
      "The first 5 rows of data are:\n",
      "             ride_id  rideable_type  bike_id           start_time  \\\n",
      "0  19A112436EC92A7E   classic_bike      NaN  2021-02-01 00:55:44   \n",
      "1  05A7BDE8A0D909FC  electric_bike      NaN  2021-02-01 01:07:04   \n",
      "2  CAC54BCCD36F6B15  electric_bike      NaN  2021-02-01 01:15:19   \n",
      "3  B12AD1843BE99A2C   classic_bike      NaN  2021-02-01 01:56:22   \n",
      "4  A62978A16B1FFE79   classic_bike      NaN  2021-02-01 01:59:41   \n",
      "\n",
      "              end_time  trip_duration  start_station_id  \\\n",
      "0  2021-02-01 10:44:58          35354               322   \n",
      "1  2021-02-01 01:47:45           2441               498   \n",
      "2  2021-02-01 01:22:48            449               192   \n",
      "3  2021-02-01 01:59:23            181               192   \n",
      "4  2021-02-01 02:21:23           1302               638   \n",
      "\n",
      "             start_station_name  end_station_id              end_station_name  \\\n",
      "0         Kimbark Ave & 53rd St            <NA>                           NaN   \n",
      "1  California Ave & Fletcher St             455  Maplewood Ave & Peterson Ave   \n",
      "2           Canal St & Adams St            <NA>                           NaN   \n",
      "3           Canal St & Adams St             107  Desplaines St & Jackson Blvd   \n",
      "4     Clinton St & Jackson Blvd             172            Rush St & Cedar St   \n",
      "\n",
      "  user_type  gender  birth_year  \n",
      "0    member     NaN         NaN  \n",
      "1    casual     NaN         NaN  \n",
      "2    member     NaN         NaN  \n",
      "3    member     NaN         NaN  \n",
      "4    member     NaN         NaN  \n",
      "\n",
      "Dataset has 48649 rows and 13 columns\n",
      "\n",
      "\n",
      "Datatype:\n",
      " ride_id                object\n",
      "rideable_type          object\n",
      "bike_id               float64\n",
      "start_time             object\n",
      "end_time               object\n",
      "trip_duration           int64\n",
      "start_station_id        Int64\n",
      "start_station_name     object\n",
      "end_station_id          Int64\n",
      "end_station_name       object\n",
      "user_type              object\n",
      "gender                float64\n",
      "birth_year            float64\n",
      "dtype: object\n",
      "\n",
      "The number of unique values in each column are:\n",
      " ride_id               48649\n",
      "rideable_type             3\n",
      "bike_id                   0\n",
      "start_time            47203\n",
      "end_time              47115\n",
      "trip_duration          4557\n",
      "start_station_id        578\n",
      "start_station_name      581\n",
      "end_station_id          579\n",
      "end_station_name        582\n",
      "user_type                 2\n",
      "gender                    0\n",
      "birth_year                0\n",
      "dtype: int64\n",
      "\n",
      "The number of null values for each column are:\n",
      " ride_id                   0\n",
      "rideable_type             0\n",
      "bike_id               48649\n",
      "start_time                0\n",
      "end_time                  0\n",
      "trip_duration             0\n",
      "start_station_id       4046\n",
      "start_station_name     3872\n",
      "end_station_id         5264\n",
      "end_station_name       5085\n",
      "user_type                 0\n",
      "gender                48649\n",
      "birth_year            48649\n",
      "dtype: int64\n",
      "\n",
      "Data summary: \n",
      "        bike_id  trip_duration  start_station_id  end_station_id  gender  \\\n",
      "count      0.0   4.864900e+04      4.460300e+04    4.338500e+04     0.0   \n",
      "mean       NaN   1.494198e+03      5.104865e+12    7.343270e+13     NaN   \n",
      "std        NaN   1.378604e+04      2.452084e+16    2.681457e+16     NaN   \n",
      "min        NaN   6.000000e+01      2.000000e+00    2.000000e+00     NaN   \n",
      "25%        NaN   4.030000e+02      9.500000e+01    9.600000e+01     NaN   \n",
      "50%        NaN   6.730000e+02      1.940000e+02    1.920000e+02     NaN   \n",
      "75%        NaN   1.198000e+03      3.120000e+02    3.120000e+02     NaN   \n",
      "max        NaN   1.807754e+06      1.436495e+18    1.521690e+18     NaN   \n",
      "\n",
      "       birth_year  \n",
      "count         0.0  \n",
      "mean          NaN  \n",
      "std           NaN  \n",
      "min           NaN  \n",
      "25%           NaN  \n",
      "50%           NaN  \n",
      "75%           NaN  \n",
      "max           NaN  \n"
     ]
    }
   ],
   "source": [
    "def overview():\n",
    "    data = pd.read_csv(\n",
    "        \"202102.csv\",\n",
    "        dtype = {\n",
    "            'start_station_id': pd.Int64Dtype(),\n",
    "            'end_station_id' : pd.Int64Dtype()})\n",
    "    data.round()\n",
    "    print(\"The first 5 rows of data are:\\n\", data.head(5))\n",
    "    print(\"\\nDataset has {} rows and {} columns\\n\".format(data.shape[0], data.shape[1]))\n",
    "    print(\"\\nDatatype:\\n\", data.dtypes)\n",
    "    print(\"\\nThe number of unique values in each column are:\\n\", data.nunique())\n",
    "    print(\"\\nThe number of null values for each column are:\\n\", data.isnull().sum())\n",
    "    print(\"\\nData summary: \\n\", data.describe())\n",
    "    return data\n",
    "\n",
    "# Lastly, assigning a variable to overview()\n",
    "data = overview()\n",
    "\n",
    "## Note: Uploading this file takes time, took me 5 mins to finish running this block"
   ]
  },
  {
   "cell_type": "markdown",
   "metadata": {},
   "source": [
    "<!-- ### What do we see?\n",
    "- The dataset has 5,509,830 rows and 10 columns\n",
    "- We notice null values on station_name columns (12.68 % of the data), that will be omitted in analysis\n",
    "- We need to convert datatype of columns start_time and end_time into datetime"
   ]
  },
  {
   "cell_type": "markdown",
   "metadata": {},
   "source": [
    "#### Change start_time & end_time into datetime\n",
    "\n",
    "- If we look into the data type of start_time and end_time, we will notice that the data type of these variables is object. Since we will need to perform datetime analysis on these variables, we will need to convert them to a datetime type."
   ]
  },
  {
   "cell_type": "code",
   "execution_count": 3,
   "metadata": {},
   "outputs": [
    {
     "data": {
      "text/plain": [
       "ride_id                       object\n",
       "rideable_type                 object\n",
       "bike_id                      float64\n",
       "start_time            datetime64[ns]\n",
       "end_time              datetime64[ns]\n",
       "trip_duration                  int64\n",
       "start_station_id               Int64\n",
       "start_station_name            object\n",
       "end_station_id                 Int64\n",
       "end_station_name              object\n",
       "user_type                     object\n",
       "gender                       float64\n",
       "birth_year                   float64\n",
       "dtype: object"
      ]
     },
     "execution_count": 3,
     "metadata": {},
     "output_type": "execute_result"
    }
   ],
   "source": [
    "# Converting objects to datetime\n",
    "data[['start_time', 'end_time']] = data[['start_time', 'end_time']].apply(pd.to_datetime, format = '%Y-%m-%d %H:%M:%S')\n",
    "data.dtypes"
   ]
  },
  {
   "cell_type": "markdown",
   "metadata": {},
   "source": [
    "#### The NaNs\n"
   ]
  },
  {
   "cell_type": "code",
   "execution_count": 4,
   "metadata": {},
   "outputs": [
    {
     "name": "stdout",
     "output_type": "stream",
     "text": [
      "The number of nulls on station name columns\n",
      "\n",
      "start_station_name    0\n",
      "end_station_name      0\n",
      "dtype: int64\n"
     ]
    }
   ],
   "source": [
    "# Removing rows where station names are nulls\n",
    "data.dropna(subset = ['start_station_name', 'end_station_name'], inplace = True)\n",
    "print('The number of nulls on station name columns\\n')\n",
    "print(data[['start_station_name', 'end_station_name']].isnull().sum())"
   ]
  },
  {
   "cell_type": "code",
   "execution_count": 5,
   "metadata": {},
   "outputs": [
    {
     "data": {
      "text/html": [
       "<div>\n",
       "<style scoped>\n",
       "    .dataframe tbody tr th:only-of-type {\n",
       "        vertical-align: middle;\n",
       "    }\n",
       "\n",
       "    .dataframe tbody tr th {\n",
       "        vertical-align: top;\n",
       "    }\n",
       "\n",
       "    .dataframe thead th {\n",
       "        text-align: right;\n",
       "    }\n",
       "</style>\n",
       "<table border=\"1\" class=\"dataframe\">\n",
       "  <thead>\n",
       "    <tr style=\"text-align: right;\">\n",
       "      <th></th>\n",
       "      <th>ride_id</th>\n",
       "      <th>rideable_type</th>\n",
       "      <th>start_time</th>\n",
       "      <th>end_time</th>\n",
       "      <th>trip_duration</th>\n",
       "      <th>start_station_id</th>\n",
       "      <th>start_station_name</th>\n",
       "      <th>end_station_id</th>\n",
       "      <th>end_station_name</th>\n",
       "      <th>user_type</th>\n",
       "    </tr>\n",
       "  </thead>\n",
       "  <tbody>\n",
       "    <tr>\n",
       "      <th>1</th>\n",
       "      <td>05A7BDE8A0D909FC</td>\n",
       "      <td>electric_bike</td>\n",
       "      <td>2021-02-01 01:07:04</td>\n",
       "      <td>2021-02-01 01:47:45</td>\n",
       "      <td>2441</td>\n",
       "      <td>498</td>\n",
       "      <td>California Ave &amp; Fletcher St</td>\n",
       "      <td>455</td>\n",
       "      <td>Maplewood Ave &amp; Peterson Ave</td>\n",
       "      <td>casual</td>\n",
       "    </tr>\n",
       "    <tr>\n",
       "      <th>3</th>\n",
       "      <td>B12AD1843BE99A2C</td>\n",
       "      <td>classic_bike</td>\n",
       "      <td>2021-02-01 01:56:22</td>\n",
       "      <td>2021-02-01 01:59:23</td>\n",
       "      <td>181</td>\n",
       "      <td>192</td>\n",
       "      <td>Canal St &amp; Adams St</td>\n",
       "      <td>107</td>\n",
       "      <td>Desplaines St &amp; Jackson Blvd</td>\n",
       "      <td>member</td>\n",
       "    </tr>\n",
       "    <tr>\n",
       "      <th>4</th>\n",
       "      <td>A62978A16B1FFE79</td>\n",
       "      <td>classic_bike</td>\n",
       "      <td>2021-02-01 01:59:41</td>\n",
       "      <td>2021-02-01 02:21:23</td>\n",
       "      <td>1302</td>\n",
       "      <td>638</td>\n",
       "      <td>Clinton St &amp; Jackson Blvd</td>\n",
       "      <td>172</td>\n",
       "      <td>Rush St &amp; Cedar St</td>\n",
       "      <td>member</td>\n",
       "    </tr>\n",
       "    <tr>\n",
       "      <th>5</th>\n",
       "      <td>191F68D78FC5E76B</td>\n",
       "      <td>electric_bike</td>\n",
       "      <td>2021-02-01 03:03:30</td>\n",
       "      <td>2021-02-01 03:10:34</td>\n",
       "      <td>424</td>\n",
       "      <td>349</td>\n",
       "      <td>Halsted St &amp; Wrightwood Ave</td>\n",
       "      <td>304</td>\n",
       "      <td>Broadway &amp; Waveland Ave</td>\n",
       "      <td>casual</td>\n",
       "    </tr>\n",
       "    <tr>\n",
       "      <th>7</th>\n",
       "      <td>6D4D1A96830EBD3C</td>\n",
       "      <td>classic_bike</td>\n",
       "      <td>2021-02-01 04:40:26</td>\n",
       "      <td>2021-02-01 04:59:51</td>\n",
       "      <td>1165</td>\n",
       "      <td>622</td>\n",
       "      <td>California Ave &amp; Cortez St</td>\n",
       "      <td>622</td>\n",
       "      <td>California Ave &amp; Cortez St</td>\n",
       "      <td>casual</td>\n",
       "    </tr>\n",
       "  </tbody>\n",
       "</table>\n",
       "</div>"
      ],
      "text/plain": [
       "            ride_id  rideable_type          start_time            end_time  \\\n",
       "1  05A7BDE8A0D909FC  electric_bike 2021-02-01 01:07:04 2021-02-01 01:47:45   \n",
       "3  B12AD1843BE99A2C   classic_bike 2021-02-01 01:56:22 2021-02-01 01:59:23   \n",
       "4  A62978A16B1FFE79   classic_bike 2021-02-01 01:59:41 2021-02-01 02:21:23   \n",
       "5  191F68D78FC5E76B  electric_bike 2021-02-01 03:03:30 2021-02-01 03:10:34   \n",
       "7  6D4D1A96830EBD3C   classic_bike 2021-02-01 04:40:26 2021-02-01 04:59:51   \n",
       "\n",
       "   trip_duration  start_station_id            start_station_name  \\\n",
       "1           2441               498  California Ave & Fletcher St   \n",
       "3            181               192           Canal St & Adams St   \n",
       "4           1302               638     Clinton St & Jackson Blvd   \n",
       "5            424               349   Halsted St & Wrightwood Ave   \n",
       "7           1165               622    California Ave & Cortez St   \n",
       "\n",
       "   end_station_id              end_station_name user_type  \n",
       "1             455  Maplewood Ave & Peterson Ave    casual  \n",
       "3             107  Desplaines St & Jackson Blvd    member  \n",
       "4             172            Rush St & Cedar St    member  \n",
       "5             304       Broadway & Waveland Ave    casual  \n",
       "7             622    California Ave & Cortez St    casual  "
      ]
     },
     "execution_count": 5,
     "metadata": {},
     "output_type": "execute_result"
    }
   ],
   "source": [
    "# Remove columns without data, since these data are only available on 2013-2019\n",
    "data.drop(['bike_id', 'gender', 'birth_year'], axis = 1, inplace = True)\n",
    "data.head()"
   ]
  },
  {
   "cell_type": "markdown",
   "metadata": {},
   "source": [
    "## Trial and Error starts here -- please don't proceed"
   ]
  },
  {
   "cell_type": "code",
   "execution_count": null,
   "metadata": {},
   "outputs": [],
   "source": [
    "data['trip_duration'].plot(kind = 'density', figsize = (14,6))"
   ]
  },
  {
   "cell_type": "markdown",
   "metadata": {},
   "source": [
    "<!-- # Indexing start_time\n",
    "# data_i = data.set_index('start_time')"
   ]
  },
  {
   "cell_type": "code",
   "execution_count": null,
   "metadata": {},
   "outputs": [],
   "source": [
    "ax = data['ride_id'].plot(kind = 'hist', figsize = (14,6))\n",
    "ax.set_ylabel('Date')\n",
    "ax.set_xlabel('Count')"
   ]
  },
  {
   "cell_type": "code",
   "execution_count": null,
   "metadata": {},
   "outputs": [],
   "source": [
    "date = data['start_time']\n",
    "casual = data['user_type'].str.contains('casual')\n",
    "member = data['user_type'].str.contains('member')\n",
    "\n",
    "plt.bar(date, data['ride_id'], color = '#f9b665', label = 'Casual')\n",
    "\n",
    "plt.title('Trip Trend')\n",
    "plt.xlabel('Date')\n",
    "plt.ylabel('Count')\n",
    "plt.legend()\n",
    "plt.tight_layout()\n",
    "plt.show()"
   ]
  },
  {
   "cell_type": "code",
   "execution_count": null,
   "metadata": {},
   "outputs": [],
   "source": [
    "data['user_type'].value_counts().plot(kind = 'bar', figsize = (18,6))"
   ]
  },
  {
   "cell_type": "code",
   "execution_count": null,
   "metadata": {},
   "outputs": [],
   "source": [
    "data['user_type'].value_counts()"
   ]
  },
  {
   "cell_type": "code",
   "execution_count": null,
   "metadata": {},
   "outputs": [],
   "source": [
    "data['user_type'].value_counts().plot(kind = 'pie', figsize = (6, 6))\n"
   ]
  },
  {
   "cell_type": "code",
   "execution_count": 55,
   "metadata": {},
   "outputs": [
    {
     "data": {
      "text/plain": [
       "Text(0, 0.5, 'Trip Duration')"
      ]
     },
     "execution_count": 55,
     "metadata": {},
     "output_type": "execute_result"
    },
    {
     "data": {
      "image/png": "[encoded data removed]",
      "text/plain": [
       "<Figure size 720x432 with 1 Axes>"
      ]
     },
     "metadata": {
      "needs_background": "light"
     },
     "output_type": "display_data"
    }
   ],
   "source": [
    "users = data['user_type'].value_counts()\n",
    "\n",
    "ax = data[['duration', 'rideable_type']].boxplot(by = 'rideable_type', figsize = (10,6))\n",
    "ax.set_ylabel('Trip Duration')"
   ]
  },
  {
   "cell_type": "code",
   "execution_count": 52,
   "metadata": {},
   "outputs": [],
   "source": [
    "t1 = data['start_time']\n",
    "t2 = data['end_time']\n",
    "\n",
    "data['duration'] = (t2-t1)\n",
    "data['duration'] = data['duration'].astype('timedelta64[s]')\n",
    "data['duration'] = data['duration'].astype('int32')"
   ]
  },
  {
   "cell_type": "code",
   "execution_count": 56,
   "metadata": {},
   "outputs": [
    {
     "data": {
      "text/plain": [
       "count    4.230100e+04\n",
       "mean     1.296328e+03\n",
       "std      1.405814e+04\n",
       "min      6.000000e+01\n",
       "25%      4.070000e+02\n",
       "50%      6.750000e+02\n",
       "75%      1.191000e+03\n",
       "max      1.807754e+06\n",
       "Name: duration, dtype: float64"
      ]
     },
     "execution_count": 56,
     "metadata": {},
     "output_type": "execute_result"
    }
   ],
   "source": [
    "data['duration'].describe()"
   ]
  },
  {
   "cell_type": "code",
   "execution_count": null,
   "metadata": {},
   "outputs": [],
   "source": [
    "print(pd.Series({\"Memory usage\": \"{:.4f} MB\".format(data.memory_usage().sum()/(1024*1024)),\n",
    "                 \"Dataset shape\": \"{}\".format(data.shape)}).to_string())"
   ]
  }
 ],
 "metadata": {
  "kernelspec": {
   "display_name": "Python 3 (ipykernel)",
   "language": "python",
   "name": "python3"
  },
  "language_info": {
   "codemirror_mode": {
    "name": "ipython",
    "version": 3
   },
   "file_extension": ".py",
   "mimetype": "text/x-python",
   "name": "python",
   "nbconvert_exporter": "python",
   "pygments_lexer": "ipython3",
   "version": "3.10.4"
  },
  "vscode": {
   "interpreter": {
    "hash": "9337a79df3e5d869f0c5777e0d2b1209a728c6a52c1d44e22a85de3e5a3843fd"
   }
  }
 },
 "nbformat": 4,
 "nbformat_minor": 4
}
